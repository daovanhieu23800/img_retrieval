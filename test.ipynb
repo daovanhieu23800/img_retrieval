{
 "cells": [
  {
   "cell_type": "code",
   "execution_count": 1,
   "metadata": {},
   "outputs": [],
   "source": [
    "from minio import Minio\n",
    "import os\n",
    "\n",
    "# Initialize MinIO client\n",
    "client = Minio(\n",
    "    \"127.0.0.1:9000\",  # Example: \"localhost:9000\"\n",
    "    access_key=\"minioaccesskey\",\n",
    "    secret_key=\"miniosecretkey\",\n",
    "    secure=False  # Set to True if using https\n",
    ")"
   ]
  },
  {
   "cell_type": "code",
   "execution_count": 2,
   "metadata": {},
   "outputs": [],
   "source": [
    "def upload_images_to_minio(local_folder, bucket_name):\n",
    "    # Check if the bucket exists, create it if it does not\n",
    "    if not client.bucket_exists(bucket_name):\n",
    "        client.make_bucket(bucket_name)\n",
    "        print(f\"Bucket '{bucket_name}' created.\")\n",
    "\n",
    "    # Loop through the files in the local folder\n",
    "    for filename in os.listdir(local_folder):\n",
    "        local_file = os.path.join(local_folder, filename)\n",
    "\n",
    "        # Skip directories\n",
    "        if os.path.isdir(local_file):\n",
    "            continue\n",
    "\n",
    "        # Only upload image files (optional: modify this to filter specific types)\n",
    "        if filename.lower().endswith(('.png', '.jpg', '.jpeg', '.gif', '.bmp')):\n",
    "            try:\n",
    "                # Upload the file to MinIO\n",
    "                with open(local_file, \"rb\") as file_data:\n",
    "                    client.put_object(bucket_name, filename, file_data, os.stat(local_file).st_size)\n",
    "                print(f\"Uploaded {filename} to {bucket_name}\")\n",
    "            except Exception as e:\n",
    "                print(f\"Failed to upload {filename}: {e}\")\n"
   ]
  },
  {
   "cell_type": "code",
   "execution_count": 3,
   "metadata": {},
   "outputs": [
    {
     "name": "stdout",
     "output_type": "stream",
     "text": [
      "Uploaded n02701002_11033.JPEG to image\n",
      "Uploaded n02701002_1264.JPEG to image\n",
      "Uploaded n02701002_15786.JPEG to image\n",
      "Uploaded n02701002_17491.JPEG to image\n",
      "Uploaded n02701002_18950.JPEG to image\n",
      "Uploaded n02701002_21621.JPEG to image\n",
      "Uploaded n02701002_2937.JPEG to image\n",
      "Uploaded n02701002_3315.JPEG to image\n",
      "Uploaded n02701002_4047.JPEG to image\n",
      "Uploaded n02701002_773.JPEG to image\n"
     ]
    }
   ],
   "source": [
    "local_folder = \"./reverse_image_search/train/ambulance\"# Path to the folder containing images\n",
    "bucket_name = \"image\"            # MinIO bucket name\n",
    "\n",
    "upload_images_to_minio(local_folder, bucket_name)"
   ]
  },
  {
   "cell_type": "code",
   "execution_count": 4,
   "metadata": {},
   "outputs": [],
   "source": [
    "import io\n",
    "from minio import Minio\n",
    "\n",
    "def read_image_from_minio(bucket_name, object_name):\n",
    "    try:\n",
    "        # Get the object from MinIO\n",
    "        response = client.get_object(bucket_name, object_name)\n",
    "\n",
    "        # Create an in-memory buffer and read the content into it\n",
    "        image_data = io.BytesIO()\n",
    "        for data in response.stream(32*1024):  # Read in chunks of 32KB\n",
    "            image_data.write(data)\n",
    "\n",
    "        # Reset pointer to the start of the buffer\n",
    "        image_data.seek(0)\n",
    "\n",
    "        # Optionally, you can open the image in memory using PIL (if needed)\n",
    "        # from PIL import Image\n",
    "        image = Image.open(image_data)\n",
    "\n",
    "        # # You can now work with the image in memory, e.g., display it\n",
    "        # image.show()  # Display the image\n",
    "\n",
    "        return image  # Or return image_data if you need the raw bytes\n",
    "    except Exception as e:\n",
    "        print(f\"Error reading image {object_name}: {e}\")\n"
   ]
  },
  {
   "cell_type": "code",
   "execution_count": 5,
   "metadata": {},
   "outputs": [
    {
     "name": "stdout",
     "output_type": "stream",
     "text": [
      "Error reading image n02088094_1045.JPEG: S3 operation failed; code: NoSuchKey, message: The specified key does not exist., resource: /image/n02088094_1045.JPEG, request_id: 180D6359A2BBD715, host_id: dd9025bab4ad464b049177c95eb6ebf374d3b3fd1af9251148b658df7ac2e3e8, bucket_name: image, object_name: n02088094_1045.JPEG\n"
     ]
    }
   ],
   "source": [
    "object_name = \"n02088094_1045.JPEG\"  # The file path in MinIO\n",
    "\n",
    "read_image_from_minio(bucket_name, object_name)\n"
   ]
  },
  {
   "cell_type": "code",
   "execution_count": 6,
   "metadata": {},
   "outputs": [
    {
     "name": "stderr",
     "output_type": "stream",
     "text": [
      "c:\\Users\\Admin\\anaconda3\\envs\\hieu\\Lib\\site-packages\\tqdm\\auto.py:21: TqdmWarning: IProgress not found. Please update jupyter and ipywidgets. See https://ipywidgets.readthedocs.io/en/stable/user_install.html\n",
      "  from .autonotebook import tqdm as notebook_tqdm\n",
      "c:\\Users\\Admin\\anaconda3\\envs\\hieu\\Lib\\site-packages\\transformers\\models\\vit\\feature_extraction_vit.py:28: FutureWarning: The class ViTFeatureExtractor is deprecated and will be removed in version 5 of Transformers. Please use ViTImageProcessor instead.\n",
      "  warnings.warn(\n"
     ]
    }
   ],
   "source": [
    "from qdrant_client import models, QdrantClient\n",
    "from qdrant_client.models import PointStruct\n",
    "from utils import FeatureExtractor\n",
    "from PIL import Image\n",
    "\n",
    "from utils import FeatureExtractor\n",
    "import os\n",
    "import uuid  # To generate unique IDs for each point\n",
    "qdrant_client = QdrantClient(url=\"http://localhost:6333\")\n",
    "collection_name = \"img_embed\"\n",
    "feature_extractor = FeatureExtractor()\n",
    "def populate_data():\n",
    "        # Check if collection exists, if not create it\n",
    "        try:\n",
    "            qdrant_client.get_collection(collection_name)\n",
    "        except Exception:\n",
    "            qdrant_client.create_collection(\n",
    "                collection_name=collection_name,\n",
    "                vectors_config=models.VectorParams(\n",
    "                    size=768,  # Adjust size based on your vector dimension\n",
    "                    distance=models.Distance.DOT,  # Dot product distance\n",
    "                ),\n",
    "            )\n",
    "        # Root directory for images\n",
    "        root = \"./reverse_image_search/train/ambulance\"\n",
    "\n",
    "        insert = True\n",
    "        if insert:\n",
    "            # Walk through the directory and process each image\n",
    "            for dirpath, foldername, filenames in os.walk(root):\n",
    "                for filename in filenames:\n",
    "                    if filename.endswith(\".JPEG\"):\n",
    "                        filepath = os.path.join(dirpath, filename)\n",
    "                        image = Image.open(filepath).convert(\"RGB\") \n",
    "                        # Extract the image embedding\n",
    "                        image_embedding = feature_extractor(image)\n",
    "\n",
    "                        # Create a unique ID for each point\n",
    "                        point_id = str(uuid.uuid4())\n",
    "\n",
    "                        # Create the payload as a dictionary (you can add more metadata here)\n",
    "                        payload = {\"filepath\": filepath}\n",
    "                        # print(payload, image_embedding.shape)\n",
    "                        # Upload the point to the Qdrant collection\n",
    "                        qdrant_client.upload_points(\n",
    "                            # Ensure this matches your collection name\n",
    "                            collection_name=collection_name,\n",
    "                            points=[models.PointStruct(\n",
    "                                id=point_id,  # Unique ID\n",
    "                                vector=image_embedding.tolist(),  # Ensure this is a list\n",
    "                                payload=payload  # Payload should be a dictionary\n",
    "                            )],\n",
    "                        )\n",
    "                        # print(response)\n",
    "        return\n",
    "populate_data()\n"
   ]
  }
 ],
 "metadata": {
  "kernelspec": {
   "display_name": "hieu",
   "language": "python",
   "name": "python3"
  },
  "language_info": {
   "codemirror_mode": {
    "name": "ipython",
    "version": 3
   },
   "file_extension": ".py",
   "mimetype": "text/x-python",
   "name": "python",
   "nbconvert_exporter": "python",
   "pygments_lexer": "ipython3",
   "version": "3.12.3"
  }
 },
 "nbformat": 4,
 "nbformat_minor": 2
}
